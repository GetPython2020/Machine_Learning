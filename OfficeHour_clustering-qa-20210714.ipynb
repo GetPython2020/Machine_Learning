{
 "cells": [
  {
   "cell_type": "markdown",
   "metadata": {},
   "source": [
    "(CONFIDENTIAL) INTERNAL USE ONLY, NOT FOR EXTERNAL DISTRIBUTION"
   ]
  },
  {
   "cell_type": "markdown",
   "metadata": {},
   "source": [
    "<h1 id=\"tocheading\">Table of Contents</h1>\n",
    "<div id=\"toc\"></div>"
   ]
  },
  {
   "cell_type": "code",
   "execution_count": 5,
   "metadata": {},
   "outputs": [
    {
     "data": {
      "application/javascript": [
       "$.getScript('https://kmahelona.github.io/ipython_notebook_goodies/ipython_notebook_toc.js')"
      ],
      "text/plain": [
       "<IPython.core.display.Javascript object>"
      ]
     },
     "metadata": {},
     "output_type": "display_data"
    }
   ],
   "source": [
    "%%javascript\n",
    "$.getScript('https://kmahelona.github.io/ipython_notebook_goodies/ipython_notebook_toc.js')"
   ]
  },
  {
   "cell_type": "markdown",
   "metadata": {},
   "source": [
    "# Hierachy Clustering"
   ]
  },
  {
   "cell_type": "code",
   "execution_count": 1,
   "metadata": {
    "collapsed": true
   },
   "outputs": [],
   "source": [
    "import sklearn as sk\n",
    "import pandas as pd\n",
    "import numpy as np\n",
    "import scipy as sp\n",
    "import matplotlib.pyplot as plt\n",
    "import gensim\n",
    "\n",
    "%matplotlib inline"
   ]
  },
  {
   "cell_type": "code",
   "execution_count": 2,
   "metadata": {
    "collapsed": true
   },
   "outputs": [],
   "source": [
    "word2vec_fname = 'utils/GoogleNews-vectors-negative300-SLIM.bin.gz'"
   ]
  },
  {
   "cell_type": "code",
   "execution_count": 3,
   "metadata": {},
   "outputs": [
    {
     "name": "stdout",
     "output_type": "stream",
     "text": [
      "CPU times: user 23.9 s, sys: 1.12 s, total: 25 s\n",
      "Wall time: 28.4 s\n"
     ]
    }
   ],
   "source": [
    "%time model = gensim.models.KeyedVectors.load_word2vec_format(fname=word2vec_fname, binary=True)"
   ]
  },
  {
   "cell_type": "code",
   "execution_count": 4,
   "metadata": {
    "collapsed": true
   },
   "outputs": [],
   "source": [
    "words = [\"he\", \"she\", \"banana\", \"apple\", \"watermelon\", \"soccer\", \"football\", \"basketball\", \"data\"]"
   ]
  },
  {
   "cell_type": "code",
   "execution_count": 6,
   "metadata": {},
   "outputs": [
    {
     "data": {
      "text/plain": [
       "(300,)"
      ]
     },
     "execution_count": 6,
     "metadata": {},
     "output_type": "execute_result"
    }
   ],
   "source": [
    "model['he'].shape"
   ]
  },
  {
   "cell_type": "code",
   "execution_count": 7,
   "metadata": {},
   "outputs": [
    {
     "data": {
      "text/plain": [
       "0.6129949174056142"
      ]
     },
     "execution_count": 7,
     "metadata": {},
     "output_type": "execute_result"
    }
   ],
   "source": [
    "model.similarity(\"she\", \"he\")"
   ]
  },
  {
   "cell_type": "code",
   "execution_count": 9,
   "metadata": {},
   "outputs": [
    {
     "name": "stdout",
     "output_type": "stream",
     "text": [
      "(9, 300)\n"
     ]
    }
   ],
   "source": [
    "embeddings = model[words]\n",
    "print(embeddings.shape)"
   ]
  },
  {
   "cell_type": "markdown",
   "metadata": {},
   "source": [
    "## Dendrogram"
   ]
  },
  {
   "cell_type": "code",
   "execution_count": 8,
   "metadata": {
    "collapsed": true
   },
   "outputs": [],
   "source": [
    "from scipy.cluster import hierarchy\n",
    "from matplotlib.pyplot import cm"
   ]
  },
  {
   "cell_type": "code",
   "execution_count": 53,
   "metadata": {
    "collapsed": true
   },
   "outputs": [],
   "source": [
    "def plot_dendrogram(words, color_threshold=0.6,\n",
    "                    method='single', metric='cosine'):\n",
    "    plt.figure(figsize=(10, 8))\n",
    "    embeddings = model[words]\n",
    "    z = hierarchy.linkage(embeddings, method=method, metric=metric)\n",
    "    dn = hierarchy.dendrogram(\n",
    "        z, labels=words, leaf_rotation=0,\n",
    "        leaf_font_size=12, color_threshold=color_threshold,\n",
    "        orientation='right', distance_sort='ascending'\n",
    "    )\n",
    "    plt.show()"
   ]
  },
  {
   "cell_type": "code",
   "execution_count": 43,
   "metadata": {},
   "outputs": [
    {
     "data": {
      "image/png": "[encoded data removed]",
      "text/plain": [
       "<matplotlib.figure.Figure at 0x1a38728f90>"
      ]
     },
     "metadata": {},
     "output_type": "display_data"
    }
   ],
   "source": [
    "words = [\"he\", \"she\", \"banana\", \"apple\", \"watermelon\", \"soccer\", \"football\", \"basketball\", \"data\"]\n",
    "plot_dendrogram(words, color_threshold=0.6, method='average')"
   ]
  },
  {
   "cell_type": "markdown",
   "metadata": {},
   "source": [
    "## More examples"
   ]
  },
  {
   "cell_type": "code",
   "execution_count": 26,
   "metadata": {},
   "outputs": [
    {
     "data": {
      "text/plain": [
       "[(u'vehicle', 0.7821096181869507),\n",
       " (u'cars', 0.7423831224441528),\n",
       " (u'SUV', 0.7160962820053101),\n",
       " (u'minivan', 0.6907036304473877),\n",
       " (u'truck', 0.6735790967941284),\n",
       " (u'Car', 0.667760968208313),\n",
       " (u'Jeep', 0.6511331796646118),\n",
       " (u'scooter', 0.638153076171875),\n",
       " (u'sedan', 0.6336701512336731),\n",
       " (u'motorcycle', 0.6256054639816284),\n",
       " (u'van', 0.6115672588348389),\n",
       " (u'Corvette', 0.6078191995620728),\n",
       " (u'Mercedes', 0.6063581705093384),\n",
       " (u'suv', 0.6054363250732422),\n",
       " (u'vehicles', 0.5998870730400085),\n",
       " (u'motorbike', 0.5921169519424438),\n",
       " (u'Camaro', 0.5906863808631897),\n",
       " (u'bike', 0.5854153633117676),\n",
       " (u'automobile', 0.5838367938995361),\n",
       " (u'BMW', 0.5806986689567566),\n",
       " (u'driver', 0.5779394507408142),\n",
       " (u'Chevrolet', 0.5706323385238647),\n",
       " (u'Lexus', 0.5684821009635925),\n",
       " (u'cruiser', 0.5670296549797058),\n",
       " (u'moped', 0.5647481679916382),\n",
       " (u'Camry', 0.5600202679634094),\n",
       " (u'Corsa', 0.551382303237915),\n",
       " (u'Acura', 0.5504179000854492),\n",
       " (u'Mazda', 0.5476574897766113),\n",
       " (u'Subaru', 0.545935869216919)]"
      ]
     },
     "execution_count": 26,
     "metadata": {},
     "output_type": "execute_result"
    }
   ],
   "source": [
    "model.most_similar(\"car\", topn=30)"
   ]
  },
  {
   "cell_type": "code",
   "execution_count": 27,
   "metadata": {},
   "outputs": [
    {
     "name": "stdout",
     "output_type": "stream",
     "text": [
      "[u'vehicle', u'cars', u'SUV', u'minivan', u'truck', u'Car', u'Jeep', u'scooter', u'sedan', u'motorcycle', u'van', u'Corvette', u'Mercedes', u'suv', u'vehicles', u'motorbike', u'Camaro', u'bike', u'automobile', u'BMW', u'driver', u'Chevrolet', u'Lexus', u'cruiser', u'moped', u'Camry', u'Corsa', u'Acura', u'Mazda', u'Subaru']\n"
     ]
    }
   ],
   "source": [
    "car_words = [x[0] for x in model.most_similar(\"car\", topn=30)]\n",
    "print(car_words)"
   ]
  },
  {
   "cell_type": "code",
   "execution_count": 41,
   "metadata": {},
   "outputs": [
    {
     "data": {
      "image/png": "[encoded data removed]",
      "text/plain": [
       "<matplotlib.figure.Figure at 0x1a318d2310>"
      ]
     },
     "metadata": {},
     "output_type": "display_data"
    }
   ],
   "source": [
    "plot_dendrogram(car_words, color_threshold=0.5, method='average')"
   ]
  },
  {
   "cell_type": "code",
   "execution_count": 44,
   "metadata": {
    "collapsed": true
   },
   "outputs": [],
   "source": [
    "# Different categories\n",
    "categories = ['car', 'football', 'milk', 'apple']"
   ]
  },
  {
   "cell_type": "code",
   "execution_count": 51,
   "metadata": {},
   "outputs": [
    {
     "name": "stdout",
     "output_type": "stream",
     "text": [
      "[u'minivan', u'coaches', u'peach', u'basketball', u'Football', u'vehicle', u'butterfat', u'berry', u'bST', u'baseball', u'whey', u'dairies', u'gridiron', u'footballl', u'apples', u'SUV', u'pear', u'cars', u'fruit', u'sports', u'truck', u'pears', u'grape', u'potato', u'athletics', u'scooter', u'dairy', u'blueberry', u'Car', u'soymilk', u'soccer', u'Dairy', u'yogurt', u'motorcycle', u'strawberry', u'cereal', u'athletic', u'Jeep', u'Milk', u'sedan']\n"
     ]
    }
   ],
   "source": [
    "words_different_categories = []\n",
    "for category in categories:\n",
    "    words_per_category = model.most_similar(category, topn=10) # tuple (word, similarity score)\n",
    "    words_different_categories += [x[0] for x in words_per_category]\n",
    "np.random.shuffle(words_different_categories)    \n",
    "print(words_different_categories)"
   ]
  },
  {
   "cell_type": "code",
   "execution_count": 55,
   "metadata": {},
   "outputs": [
    {
     "data": {
      "image/png": "[encoded data removed]",
      "text/plain": [
       "<matplotlib.figure.Figure at 0x1a3a08dd10>"
      ]
     },
     "metadata": {},
     "output_type": "display_data"
    }
   ],
   "source": [
    "plot_dendrogram(words_different_categories, color_threshold=0.65, method='average')"
   ]
  },
  {
   "cell_type": "code",
   "execution_count": null,
   "metadata": {
    "collapsed": true
   },
   "outputs": [],
   "source": []
  },
  {
   "cell_type": "code",
   "execution_count": null,
   "metadata": {
    "collapsed": true
   },
   "outputs": [],
   "source": []
  },
  {
   "cell_type": "code",
   "execution_count": null,
   "metadata": {
    "collapsed": true
   },
   "outputs": [],
   "source": []
  },
  {
   "cell_type": "code",
   "execution_count": null,
   "metadata": {
    "collapsed": true
   },
   "outputs": [],
   "source": []
  },
  {
   "cell_type": "code",
   "execution_count": null,
   "metadata": {
    "collapsed": true
   },
   "outputs": [],
   "source": []
  },
  {
   "cell_type": "code",
   "execution_count": null,
   "metadata": {
    "collapsed": true
   },
   "outputs": [],
   "source": []
  }
 ],
 "metadata": {
  "kernelspec": {
   "display_name": "Python 2",
   "language": "python",
   "name": "python2"
  },
  "language_info": {
   "codemirror_mode": {
    "name": "ipython",
    "version": 2
   },
   "file_extension": ".py",
   "mimetype": "text/x-python",
   "name": "python",
   "nbconvert_exporter": "python",
   "pygments_lexer": "ipython2",
   "version": "2.7.14"
  }
 },
 "nbformat": 4,
 "nbformat_minor": 2
}
